{
  "nbformat": 4,
  "nbformat_minor": 0,
  "metadata": {
    "colab": {
      "provenance": [],
      "include_colab_link": true
    },
    "kernelspec": {
      "name": "python3",
      "display_name": "Python 3"
    },
    "language_info": {
      "name": "python"
    }
  },
  "cells": [
    {
      "cell_type": "markdown",
      "metadata": {
        "id": "view-in-github",
        "colab_type": "text"
      },
      "source": [
        "<a href=\"https://colab.research.google.com/github/DrMelissaFranklin/DrMelissaFranklin/blob/main/Mel_SQL_1_Chinook_project.ipynb\" target=\"_parent\"><img src=\"https://colab.research.google.com/assets/colab-badge.svg\" alt=\"Open In Colab\"/></a>"
      ]
    },
    {
      "cell_type": "markdown",
      "source": [
        "# Project 3 SQLite - Chinook\n",
        "\"My Lec 2f-sqlite3-chinook.db.ipynb\"\n",
        "\n",
        "ERD for the dataset\n",
        "https://www.sqlitetutorial.net/wp-content/uploads/2018/03/sqlite-sample-database-diagram-color.pdf\n",
        "\n",
        "Symbols to interpret the ERD:\n",
        "https://d2slcw3kip6qmk.cloudfront.net/marketing/pages/chart/erd-symbols/ERD-Notation.PNG\n",
        "\n",
        "Make an ERD to set up questions:\n",
        "https://app.diagrams.net/\n"
      ],
      "metadata": {
        "id": "cJG_e1vK2NMI"
      }
    },
    {
      "cell_type": "markdown",
      "source": [
        "## Chinook data set\n",
        "\n",
        "See the lecture on SQLite3 using the Chinook data set to set up the software, database, and tables, as well as for the links to ancillary information about the data set.\n"
      ],
      "metadata": {
        "id": "s6jMcIbW3P5o"
      }
    },
    {
      "cell_type": "code",
      "source": [
        "# Install the sqlite package for Ubuntu\n",
        "\n",
        "%%capture\n",
        "%%bash\n",
        "apt-get update\n",
        "apt-get install -y sqlite3\n",
        "\n",
        "sqlite3 --help\n",
        "sqlite3 --version"
      ],
      "metadata": {
        "id": "UhFW0uTR6Jfv"
      },
      "execution_count": 1,
      "outputs": []
    },
    {
      "cell_type": "code",
      "source": [
        "# Download the Chinook sqlite database\n",
        "%%bash\n",
        "[ -f chinook.zip ] ||\n",
        "  curl -s -O https://www.sqlitetutorial.net/wp-content/uploads/2018/03/chinook.zip\n",
        "unzip -l chinook.zip"
      ],
      "metadata": {
        "colab": {
          "base_uri": "https://localhost:8080/"
        },
        "id": "KQMSMUocrkwt",
        "outputId": "af5f432b-2efc-4fc1-d567-8e3cbbfbac72"
      },
      "execution_count": 2,
      "outputs": [
        {
          "output_type": "stream",
          "name": "stdout",
          "text": [
            "Archive:  chinook.zip\n",
            "  Length      Date    Time    Name\n",
            "---------  ---------- -----   ----\n",
            "   884736  2015-11-29 10:53   chinook.db\n",
            "---------                     -------\n",
            "   884736                     1 file\n"
          ]
        }
      ]
    },
    {
      "cell_type": "code",
      "source": [
        "!unzip -u chinook.zip # unzip the Chinook sqlite database"
      ],
      "metadata": {
        "colab": {
          "base_uri": "https://localhost:8080/"
        },
        "id": "p-uJkUGJr-ii",
        "outputId": "5c8cd6d8-a834-4d7f-940f-0b183a26e169"
      },
      "execution_count": 3,
      "outputs": [
        {
          "output_type": "stream",
          "name": "stdout",
          "text": [
            "Archive:  chinook.zip\n",
            "  inflating: chinook.db              \n"
          ]
        }
      ]
    },
    {
      "cell_type": "markdown",
      "source": [
        "#Use SQL queries to pull specific information\n",
        "\n",
        "###Do NOT pull all the data and then filter using DataFrame methods etc. Make sure and use AT LEAST 13 of the 15 SQL options listed below. (You may have to get creative and come up with more questions to ask/answer.)"
      ],
      "metadata": {
        "id": "MFl_MPRpakw1"
      }
    },
    {
      "cell_type": "code",
      "source": [
        "# Quick reference guide to all magics\n",
        "%quickref"
      ],
      "metadata": {
        "id": "VMA0wrqkawBF"
      },
      "execution_count": 4,
      "outputs": []
    },
    {
      "cell_type": "code",
      "source": [
        "# List all line and cell magics available, and status of magics\n",
        "%lsmagic"
      ],
      "metadata": {
        "colab": {
          "base_uri": "https://localhost:8080/",
          "height": 374
        },
        "collapsed": true,
        "id": "vKkFRmUcaw4D",
        "outputId": "8aef2c22-6459-4259-be07-9a7f679032a0"
      },
      "execution_count": 5,
      "outputs": [
        {
          "output_type": "execute_result",
          "data": {
            "text/plain": [
              "Available line magics:\n",
              "%alias  %alias_magic  %autoawait  %autocall  %automagic  %autosave  %bookmark  %cat  %cd  %clear  %colors  %conda  %config  %connect_info  %cp  %debug  %dhist  %dirs  %doctest_mode  %ed  %edit  %env  %gui  %hist  %history  %killbgscripts  %ldir  %less  %lf  %lk  %ll  %load  %load_ext  %loadpy  %logoff  %logon  %logstart  %logstate  %logstop  %ls  %lsmagic  %lx  %macro  %magic  %man  %matplotlib  %mkdir  %more  %mv  %notebook  %page  %pastebin  %pdb  %pdef  %pdoc  %pfile  %pinfo  %pinfo2  %pip  %popd  %pprint  %precision  %prun  %psearch  %psource  %pushd  %pwd  %pycat  %pylab  %qtconsole  %quickref  %recall  %rehashx  %reload_ext  %rep  %rerun  %reset  %reset_selective  %rm  %rmdir  %run  %save  %sc  %set_env  %shell  %store  %sx  %system  %tb  %tensorflow_version  %time  %timeit  %unalias  %unload_ext  %who  %who_ls  %whos  %xdel  %xmode\n",
              "\n",
              "Available cell magics:\n",
              "%%!  %%HTML  %%SVG  %%bash  %%bigquery  %%capture  %%debug  %%file  %%html  %%javascript  %%js  %%latex  %%markdown  %%perl  %%prun  %%pypy  %%python  %%python2  %%python3  %%ruby  %%script  %%sh  %%shell  %%svg  %%sx  %%system  %%time  %%timeit  %%writefile\n",
              "\n",
              "Automagic is ON, % prefix IS NOT needed for line magics."
            ],
            "application/json": {
              "line": {
                "automagic": "AutoMagics",
                "autocall": "AutoMagics",
                "alias_magic": "BasicMagics",
                "lsmagic": "BasicMagics",
                "magic": "BasicMagics",
                "page": "BasicMagics",
                "pprint": "BasicMagics",
                "colors": "BasicMagics",
                "xmode": "BasicMagics",
                "quickref": "BasicMagics",
                "doctest_mode": "BasicMagics",
                "gui": "BasicMagics",
                "precision": "BasicMagics",
                "notebook": "BasicMagics",
                "save": "CodeMagics",
                "pastebin": "CodeMagics",
                "loadpy": "CodeMagics",
                "load": "CodeMagics",
                "edit": "KernelMagics",
                "config": "ConfigMagics",
                "prun": "ExecutionMagics",
                "pdb": "ExecutionMagics",
                "debug": "ExecutionMagics",
                "tb": "ExecutionMagics",
                "run": "ExecutionMagics",
                "timeit": "ExecutionMagics",
                "time": "ExecutionMagics",
                "macro": "ExecutionMagics",
                "load_ext": "ExtensionMagics",
                "unload_ext": "ExtensionMagics",
                "reload_ext": "ExtensionMagics",
                "history": "HistoryMagics",
                "recall": "HistoryMagics",
                "rerun": "HistoryMagics",
                "logstart": "LoggingMagics",
                "logstop": "LoggingMagics",
                "logoff": "LoggingMagics",
                "logon": "LoggingMagics",
                "logstate": "LoggingMagics",
                "pinfo": "NamespaceMagics",
                "pinfo2": "NamespaceMagics",
                "pdef": "NamespaceMagics",
                "pdoc": "NamespaceMagics",
                "psource": "NamespaceMagics",
                "pfile": "NamespaceMagics",
                "psearch": "NamespaceMagics",
                "who_ls": "NamespaceMagics",
                "who": "NamespaceMagics",
                "whos": "NamespaceMagics",
                "reset": "NamespaceMagics",
                "reset_selective": "NamespaceMagics",
                "xdel": "NamespaceMagics",
                "alias": "OSMagics",
                "unalias": "OSMagics",
                "rehashx": "OSMagics",
                "pwd": "OSMagics",
                "cd": "OSMagics",
                "env": "OSMagics",
                "set_env": "OSMagics",
                "pushd": "OSMagics",
                "popd": "OSMagics",
                "dirs": "OSMagics",
                "dhist": "OSMagics",
                "sc": "OSMagics",
                "sx": "OSMagics",
                "system": "OSMagics",
                "bookmark": "OSMagics",
                "pycat": "OSMagics",
                "pip": "Other",
                "conda": "PackagingMagics",
                "matplotlib": "PylabMagics",
                "pylab": "PylabMagics",
                "killbgscripts": "ScriptMagics",
                "autoawait": "AsyncMagics",
                "ed": "Other",
                "hist": "Other",
                "rep": "Other",
                "clear": "KernelMagics",
                "less": "KernelMagics",
                "more": "KernelMagics",
                "man": "KernelMagics",
                "connect_info": "KernelMagics",
                "qtconsole": "KernelMagics",
                "autosave": "KernelMagics",
                "mkdir": "Other",
                "rmdir": "Other",
                "mv": "Other",
                "rm": "Other",
                "cp": "Other",
                "cat": "Other",
                "ls": "Other",
                "ll": "Other",
                "lf": "Other",
                "lk": "Other",
                "ldir": "Other",
                "lx": "Other",
                "store": "StoreMagics",
                "shell": "Other",
                "tensorflow_version": "Other"
              },
              "cell": {
                "js": "DisplayMagics",
                "javascript": "DisplayMagics",
                "latex": "DisplayMagics",
                "svg": "DisplayMagics",
                "html": "DisplayMagics",
                "markdown": "DisplayMagics",
                "prun": "ExecutionMagics",
                "debug": "ExecutionMagics",
                "timeit": "ExecutionMagics",
                "time": "ExecutionMagics",
                "capture": "ExecutionMagics",
                "sx": "OSMagics",
                "system": "OSMagics",
                "!": "OSMagics",
                "writefile": "OSMagics",
                "script": "ScriptMagics",
                "sh": "Other",
                "bash": "Other",
                "perl": "Other",
                "ruby": "Other",
                "python": "Other",
                "python2": "Other",
                "python3": "Other",
                "pypy": "Other",
                "SVG": "Other",
                "HTML": "Other",
                "file": "Other",
                "bigquery": "Other",
                "shell": "Other"
              }
            }
          },
          "metadata": {},
          "execution_count": 5
        }
      ]
    },
    {
      "cell_type": "code",
      "source": [
        "# !: shell commends in Colab;\n",
        "#ls: list dir;\n",
        "#-l: long list format;\n",
        "#a: includes hidden files\n",
        "\n",
        "# --Returns 1180 kb as the size of the database file\n",
        "!ls -la"
      ],
      "metadata": {
        "colab": {
          "base_uri": "https://localhost:8080/"
        },
        "id": "R7x-DOfBsB0J",
        "outputId": "0b76e52a-3047-4744-e80d-0a3be5648820",
        "collapsed": true
      },
      "execution_count": 6,
      "outputs": [
        {
          "output_type": "stream",
          "name": "stdout",
          "text": [
            "total 1180\n",
            "drwxr-xr-x 1 root root   4096 Oct 28 00:17 .\n",
            "drwxr-xr-x 1 root root   4096 Oct 28 00:15 ..\n",
            "-rw-r--r-- 1 root root 884736 Nov 29  2015 chinook.db\n",
            "-rw-r--r-- 1 root root 305596 Oct 28 00:17 chinook.zip\n",
            "drwxr-xr-x 4 root root   4096 Oct 24 13:20 .config\n",
            "drwxr-xr-x 1 root root   4096 Oct 24 13:20 sample_data\n"
          ]
        }
      ]
    },
    {
      "cell_type": "code",
      "source": [
        "# Names of tables in the database\n",
        "%%script sqlite3 --column --header chinook.db\n",
        ".tables"
      ],
      "metadata": {
        "colab": {
          "base_uri": "https://localhost:8080/"
        },
        "id": "T6PO_6ijsFXv",
        "outputId": "ecb7d653-41b7-451c-f4ec-84e02eb7e39a"
      },
      "execution_count": 7,
      "outputs": [
        {
          "output_type": "stream",
          "name": "stdout",
          "text": [
            "albums          employees       invoices        playlists     \n",
            "artists         genres          media_types     tracks        \n",
            "customers       invoice_items   playlist_track\n"
          ]
        }
      ]
    },
    {
      "cell_type": "code",
      "source": [
        "# Schemas for the entire database.\n",
        "# Schema: the structure of the database, including tables and column names, data types, and relationships.\n",
        "#Foreign keys are hidden keys.\n",
        "\n",
        "%%script sqlite3 --column --header chinook.db\n",
        ".schema"
      ],
      "metadata": {
        "colab": {
          "base_uri": "https://localhost:8080/"
        },
        "id": "8HGVljY7sJN_",
        "outputId": "b900ab76-a959-4e81-89bb-554035b7c3c3",
        "collapsed": true
      },
      "execution_count": 8,
      "outputs": [
        {
          "output_type": "stream",
          "name": "stdout",
          "text": [
            "CREATE TABLE IF NOT EXISTS \"albums\"\r\n",
            "(\r\n",
            "    [AlbumId] INTEGER PRIMARY KEY AUTOINCREMENT NOT NULL,\r\n",
            "    [Title] NVARCHAR(160)  NOT NULL,\r\n",
            "    [ArtistId] INTEGER  NOT NULL,\r\n",
            "    FOREIGN KEY ([ArtistId]) REFERENCES \"artists\" ([ArtistId]) \r\n",
            "\t\tON DELETE NO ACTION ON UPDATE NO ACTION\r\n",
            ");\n",
            "CREATE TABLE sqlite_sequence(name,seq);\n",
            "CREATE TABLE IF NOT EXISTS \"artists\"\r\n",
            "(\r\n",
            "    [ArtistId] INTEGER PRIMARY KEY AUTOINCREMENT NOT NULL,\r\n",
            "    [Name] NVARCHAR(120)\r\n",
            ");\n",
            "CREATE TABLE IF NOT EXISTS \"customers\"\r\n",
            "(\r\n",
            "    [CustomerId] INTEGER PRIMARY KEY AUTOINCREMENT NOT NULL,\r\n",
            "    [FirstName] NVARCHAR(40)  NOT NULL,\r\n",
            "    [LastName] NVARCHAR(20)  NOT NULL,\r\n",
            "    [Company] NVARCHAR(80),\r\n",
            "    [Address] NVARCHAR(70),\r\n",
            "    [City] NVARCHAR(40),\r\n",
            "    [State] NVARCHAR(40),\r\n",
            "    [Country] NVARCHAR(40),\r\n",
            "    [PostalCode] NVARCHAR(10),\r\n",
            "    [Phone] NVARCHAR(24),\r\n",
            "    [Fax] NVARCHAR(24),\r\n",
            "    [Email] NVARCHAR(60)  NOT NULL,\r\n",
            "    [SupportRepId] INTEGER,\r\n",
            "    FOREIGN KEY ([SupportRepId]) REFERENCES \"employees\" ([EmployeeId]) \r\n",
            "\t\tON DELETE NO ACTION ON UPDATE NO ACTION\r\n",
            ");\n",
            "CREATE TABLE IF NOT EXISTS \"employees\"\r\n",
            "(\r\n",
            "    [EmployeeId] INTEGER PRIMARY KEY AUTOINCREMENT NOT NULL,\r\n",
            "    [LastName] NVARCHAR(20)  NOT NULL,\r\n",
            "    [FirstName] NVARCHAR(20)  NOT NULL,\r\n",
            "    [Title] NVARCHAR(30),\r\n",
            "    [ReportsTo] INTEGER,\r\n",
            "    [BirthDate] DATETIME,\r\n",
            "    [HireDate] DATETIME,\r\n",
            "    [Address] NVARCHAR(70),\r\n",
            "    [City] NVARCHAR(40),\r\n",
            "    [State] NVARCHAR(40),\r\n",
            "    [Country] NVARCHAR(40),\r\n",
            "    [PostalCode] NVARCHAR(10),\r\n",
            "    [Phone] NVARCHAR(24),\r\n",
            "    [Fax] NVARCHAR(24),\r\n",
            "    [Email] NVARCHAR(60),\r\n",
            "    FOREIGN KEY ([ReportsTo]) REFERENCES \"employees\" ([EmployeeId]) \r\n",
            "\t\tON DELETE NO ACTION ON UPDATE NO ACTION\r\n",
            ");\n",
            "CREATE TABLE IF NOT EXISTS \"genres\"\r\n",
            "(\r\n",
            "    [GenreId] INTEGER PRIMARY KEY AUTOINCREMENT NOT NULL,\r\n",
            "    [Name] NVARCHAR(120)\r\n",
            ");\n",
            "CREATE TABLE IF NOT EXISTS \"invoices\"\r\n",
            "(\r\n",
            "    [InvoiceId] INTEGER PRIMARY KEY AUTOINCREMENT NOT NULL,\r\n",
            "    [CustomerId] INTEGER  NOT NULL,\r\n",
            "    [InvoiceDate] DATETIME  NOT NULL,\r\n",
            "    [BillingAddress] NVARCHAR(70),\r\n",
            "    [BillingCity] NVARCHAR(40),\r\n",
            "    [BillingState] NVARCHAR(40),\r\n",
            "    [BillingCountry] NVARCHAR(40),\r\n",
            "    [BillingPostalCode] NVARCHAR(10),\r\n",
            "    [Total] NUMERIC(10,2)  NOT NULL,\r\n",
            "    FOREIGN KEY ([CustomerId]) REFERENCES \"customers\" ([CustomerId]) \r\n",
            "\t\tON DELETE NO ACTION ON UPDATE NO ACTION\r\n",
            ");\n",
            "CREATE TABLE IF NOT EXISTS \"invoice_items\"\r\n",
            "(\r\n",
            "    [InvoiceLineId] INTEGER PRIMARY KEY AUTOINCREMENT NOT NULL,\r\n",
            "    [InvoiceId] INTEGER  NOT NULL,\r\n",
            "    [TrackId] INTEGER  NOT NULL,\r\n",
            "    [UnitPrice] NUMERIC(10,2)  NOT NULL,\r\n",
            "    [Quantity] INTEGER  NOT NULL,\r\n",
            "    FOREIGN KEY ([InvoiceId]) REFERENCES \"invoices\" ([InvoiceId]) \r\n",
            "\t\tON DELETE NO ACTION ON UPDATE NO ACTION,\r\n",
            "    FOREIGN KEY ([TrackId]) REFERENCES \"tracks\" ([TrackId]) \r\n",
            "\t\tON DELETE NO ACTION ON UPDATE NO ACTION\r\n",
            ");\n",
            "CREATE TABLE IF NOT EXISTS \"media_types\"\r\n",
            "(\r\n",
            "    [MediaTypeId] INTEGER PRIMARY KEY AUTOINCREMENT NOT NULL,\r\n",
            "    [Name] NVARCHAR(120)\r\n",
            ");\n",
            "CREATE TABLE IF NOT EXISTS \"playlists\"\r\n",
            "(\r\n",
            "    [PlaylistId] INTEGER PRIMARY KEY AUTOINCREMENT NOT NULL,\r\n",
            "    [Name] NVARCHAR(120)\r\n",
            ");\n",
            "CREATE TABLE IF NOT EXISTS \"playlist_track\"\r\n",
            "(\r\n",
            "    [PlaylistId] INTEGER  NOT NULL,\r\n",
            "    [TrackId] INTEGER  NOT NULL,\r\n",
            "    CONSTRAINT [PK_PlaylistTrack] PRIMARY KEY  ([PlaylistId], [TrackId]),\r\n",
            "    FOREIGN KEY ([PlaylistId]) REFERENCES \"playlists\" ([PlaylistId]) \r\n",
            "\t\tON DELETE NO ACTION ON UPDATE NO ACTION,\r\n",
            "    FOREIGN KEY ([TrackId]) REFERENCES \"tracks\" ([TrackId]) \r\n",
            "\t\tON DELETE NO ACTION ON UPDATE NO ACTION\r\n",
            ");\n",
            "CREATE TABLE IF NOT EXISTS \"tracks\"\r\n",
            "(\r\n",
            "    [TrackId] INTEGER PRIMARY KEY AUTOINCREMENT NOT NULL,\r\n",
            "    [Name] NVARCHAR(200)  NOT NULL,\r\n",
            "    [AlbumId] INTEGER,\r\n",
            "    [MediaTypeId] INTEGER  NOT NULL,\r\n",
            "    [GenreId] INTEGER,\r\n",
            "    [Composer] NVARCHAR(220),\r\n",
            "    [Milliseconds] INTEGER  NOT NULL,\r\n",
            "    [Bytes] INTEGER,\r\n",
            "    [UnitPrice] NUMERIC(10,2)  NOT NULL,\r\n",
            "    FOREIGN KEY ([AlbumId]) REFERENCES \"albums\" ([AlbumId]) \r\n",
            "\t\tON DELETE NO ACTION ON UPDATE NO ACTION,\r\n",
            "    FOREIGN KEY ([GenreId]) REFERENCES \"genres\" ([GenreId]) \r\n",
            "\t\tON DELETE NO ACTION ON UPDATE NO ACTION,\r\n",
            "    FOREIGN KEY ([MediaTypeId]) REFERENCES \"media_types\" ([MediaTypeId]) \r\n",
            "\t\tON DELETE NO ACTION ON UPDATE NO ACTION\r\n",
            ");\n",
            "CREATE INDEX [IFK_AlbumArtistId] ON \"albums\" ([ArtistId]);\n",
            "CREATE INDEX [IFK_CustomerSupportRepId] ON \"customers\" ([SupportRepId]);\n",
            "CREATE INDEX [IFK_EmployeeReportsTo] ON \"employees\" ([ReportsTo]);\n",
            "CREATE INDEX [IFK_InvoiceCustomerId] ON \"invoices\" ([CustomerId]);\n",
            "CREATE INDEX [IFK_InvoiceLineInvoiceId] ON \"invoice_items\" ([InvoiceId]);\n",
            "CREATE INDEX [IFK_InvoiceLineTrackId] ON \"invoice_items\" ([TrackId]);\n",
            "CREATE INDEX [IFK_PlaylistTrackTrackId] ON \"playlist_track\" ([TrackId]);\n",
            "CREATE INDEX [IFK_TrackAlbumId] ON \"tracks\" ([AlbumId]);\n",
            "CREATE INDEX [IFK_TrackGenreId] ON \"tracks\" ([GenreId]);\n",
            "CREATE INDEX [IFK_TrackMediaTypeId] ON \"tracks\" ([MediaTypeId]);\n",
            "CREATE TABLE sqlite_stat1(tbl,idx,stat);\n"
          ]
        }
      ]
    },
    {
      "cell_type": "markdown",
      "source": [],
      "metadata": {
        "id": "r9qP6LPhaEda"
      }
    },
    {
      "cell_type": "code",
      "source": [
        "# Count the number of unique albums\n",
        "%%script sqlite3 --column --header chinook.db\n",
        "SELECT COUNT (DISTINCT AlbumID)\n",
        "from tracks"
      ],
      "metadata": {
        "colab": {
          "base_uri": "https://localhost:8080/"
        },
        "id": "EPlt1QJTsVS_",
        "outputId": "4b161647-3e2f-440b-f4fe-15174361aecf"
      },
      "execution_count": 9,
      "outputs": [
        {
          "output_type": "stream",
          "name": "stdout",
          "text": [
            "COUNT (DISTINCT AlbumID)\n",
            "------------------------\n",
            "347                     \n"
          ]
        }
      ]
    },
    {
      "cell_type": "code",
      "source": [
        "# Select the first 10 entries from the albums table\n",
        "%%script sqlite3 --column --header chinook.db\n",
        "select *\n",
        "from albums\n",
        "limit 10"
      ],
      "metadata": {
        "colab": {
          "base_uri": "https://localhost:8080/"
        },
        "id": "DUD_UHszsZfi",
        "outputId": "4952060f-53cb-4f9c-84ac-c0d6920727f1"
      },
      "execution_count": 10,
      "outputs": [
        {
          "output_type": "stream",
          "name": "stdout",
          "text": [
            "AlbumId  Title                                  ArtistId\n",
            "-------  -------------------------------------  --------\n",
            "1        For Those About To Rock We Salute You  1       \n",
            "2        Balls to the Wall                      2       \n",
            "3        Restless and Wild                      2       \n",
            "4        Let There Be Rock                      1       \n",
            "5        Big Ones                               3       \n",
            "6        Jagged Little Pill                     4       \n",
            "7        Facelift                               5       \n",
            "8        Warner 25 Anos                         6       \n",
            "9        Plays Metallica By Four Cellos         7       \n",
            "10       Audioslave                             8       \n"
          ]
        }
      ]
    },
    {
      "cell_type": "code",
      "source": [
        "# Select the first 10 entries from the artists table\n",
        "%%script sqlite3 --column --header chinook.db\n",
        "select *\n",
        "from artists\n",
        "limit 10"
      ],
      "metadata": {
        "colab": {
          "base_uri": "https://localhost:8080/"
        },
        "id": "jJ-AF9G4sdsG",
        "outputId": "9a697cfb-2376-4f19-eb9a-b4bdcc4870f1"
      },
      "execution_count": 11,
      "outputs": [
        {
          "output_type": "stream",
          "name": "stdout",
          "text": [
            "ArtistId  Name                \n",
            "--------  --------------------\n",
            "1         AC/DC               \n",
            "2         Accept              \n",
            "3         Aerosmith           \n",
            "4         Alanis Morissette   \n",
            "5         Alice In Chains     \n",
            "6         Antônio Carlos Jobim\n",
            "7         Apocalyptica        \n",
            "8         Audioslave          \n",
            "9         BackBeat            \n",
            "10        Billy Cobham        \n"
          ]
        }
      ]
    },
    {
      "cell_type": "code",
      "source": [
        "# Select the first 10 entries from joining the artists and albums tables\n",
        "%%script sqlite3 --column --header chinook.db\n",
        "select *\n",
        "from artists\n",
        "join albums\n",
        "on artists.ArtistID = albums.ArtistID\n",
        "limit 10\n"
      ],
      "metadata": {
        "colab": {
          "base_uri": "https://localhost:8080/"
        },
        "id": "c-KHBLjysne8",
        "outputId": "904717c5-2431-41fd-91f9-3d5667a9bd0d"
      },
      "execution_count": 12,
      "outputs": [
        {
          "output_type": "stream",
          "name": "stdout",
          "text": [
            "ArtistId  Name                  AlbumId  Title                                  ArtistId\n",
            "--------  --------------------  -------  -------------------------------------  --------\n",
            "1         AC/DC                 1        For Those About To Rock We Salute You  1       \n",
            "2         Accept                2        Balls to the Wall                      2       \n",
            "2         Accept                3        Restless and Wild                      2       \n",
            "1         AC/DC                 4        Let There Be Rock                      1       \n",
            "3         Aerosmith             5        Big Ones                               3       \n",
            "4         Alanis Morissette     6        Jagged Little Pill                     4       \n",
            "5         Alice In Chains       7        Facelift                               5       \n",
            "6         Antônio Carlos Jobim  8        Warner 25 Anos                         6       \n",
            "7         Apocalyptica          9        Plays Metallica By Four Cellos         7       \n",
            "8         Audioslave            10       Audioslave                             8       \n"
          ]
        }
      ]
    },
    {
      "cell_type": "markdown",
      "source": [
        "From mod3 lec2d --\n",
        " to get the data into SQLite, we will first need to go through a few data wrangling steps:\n",
        "\n",
        "save the Markdown table to a string\n",
        "convert the string to HTML\n",
        "convert the HTML to a DataFrame\n",
        "convert the DataFrame to a CSV file\n",
        "import the CSV file into SQLite3\n",
        "clean up the data in SQLite3, e.g. null values, data types"
      ],
      "metadata": {
        "id": "TxWpuVeQDSmD"
      }
    },
    {
      "cell_type": "markdown",
      "source": [
        "## Come up with questions about your data\n",
        "Have a look at the Entity-Relation ( ER ) diagram to help come up with questions.\n",
        "\n",
        "* What sort of information is in this dataset?\n",
        "* How many records are there?\n",
        "* How many different countries (states, counties, cities, etc) have records in this data set?\n",
        "\n",
        "\n",
        "If you are stuck, here are some ideas for questions:\n",
        "- https://github.com/LucasMcL/15-sql_queries_02-chinook/blob/master/README.md\n",
        "- [Using the R language]( https://rpubs.com/enext777/636199 )\n",
        "- [Search Google]( https://www.google.com/search?q=chinook+database+questions )\n",
        "\n"
      ],
      "metadata": {
        "id": "OA9Mp38s52x2"
      }
    },
    {
      "cell_type": "markdown",
      "source": [],
      "metadata": {
        "id": "aJeXqcpFdc1J"
      }
    },
    {
      "cell_type": "markdown",
      "source": [
        "# BEGIN MY PROJECT 3:"
      ],
      "metadata": {
        "id": "gW4yxi0pdVi7"
      }
    },
    {
      "cell_type": "markdown",
      "source": [
        "## Use SQL queries to pull specific information\n",
        "\n",
        "Do NOT pull all the data and then filter using DataFrame methods etc. Make sure and use AT LEAST 13 of the 15 SQL options listed below. (You may have to get creative and come up with more questions to ask/answer.)\n"
      ],
      "metadata": {
        "id": "TqvaIfog546s"
      }
    },
    {
      "cell_type": "code",
      "source": [
        "# Quick reference guide to all magics\n",
        "%quickref"
      ],
      "metadata": {
        "id": "YmICVUnVuBSQ"
      },
      "execution_count": 13,
      "outputs": []
    },
    {
      "cell_type": "code",
      "source": [
        "# List all line and cell magics.\n",
        "# Also show state of Automagic\n",
        "%lsmagic"
      ],
      "metadata": {
        "id": "8slKgFpsuBCh",
        "colab": {
          "base_uri": "https://localhost:8080/",
          "height": 374
        },
        "outputId": "382123a6-b72f-4688-f113-23a9ed86c301",
        "collapsed": true
      },
      "execution_count": 14,
      "outputs": [
        {
          "output_type": "execute_result",
          "data": {
            "text/plain": [
              "Available line magics:\n",
              "%alias  %alias_magic  %autoawait  %autocall  %automagic  %autosave  %bookmark  %cat  %cd  %clear  %colors  %conda  %config  %connect_info  %cp  %debug  %dhist  %dirs  %doctest_mode  %ed  %edit  %env  %gui  %hist  %history  %killbgscripts  %ldir  %less  %lf  %lk  %ll  %load  %load_ext  %loadpy  %logoff  %logon  %logstart  %logstate  %logstop  %ls  %lsmagic  %lx  %macro  %magic  %man  %matplotlib  %mkdir  %more  %mv  %notebook  %page  %pastebin  %pdb  %pdef  %pdoc  %pfile  %pinfo  %pinfo2  %pip  %popd  %pprint  %precision  %prun  %psearch  %psource  %pushd  %pwd  %pycat  %pylab  %qtconsole  %quickref  %recall  %rehashx  %reload_ext  %rep  %rerun  %reset  %reset_selective  %rm  %rmdir  %run  %save  %sc  %set_env  %shell  %store  %sx  %system  %tb  %tensorflow_version  %time  %timeit  %unalias  %unload_ext  %who  %who_ls  %whos  %xdel  %xmode\n",
              "\n",
              "Available cell magics:\n",
              "%%!  %%HTML  %%SVG  %%bash  %%bigquery  %%capture  %%debug  %%file  %%html  %%javascript  %%js  %%latex  %%markdown  %%perl  %%prun  %%pypy  %%python  %%python2  %%python3  %%ruby  %%script  %%sh  %%shell  %%svg  %%sx  %%system  %%time  %%timeit  %%writefile\n",
              "\n",
              "Automagic is ON, % prefix IS NOT needed for line magics."
            ],
            "application/json": {
              "line": {
                "automagic": "AutoMagics",
                "autocall": "AutoMagics",
                "alias_magic": "BasicMagics",
                "lsmagic": "BasicMagics",
                "magic": "BasicMagics",
                "page": "BasicMagics",
                "pprint": "BasicMagics",
                "colors": "BasicMagics",
                "xmode": "BasicMagics",
                "quickref": "BasicMagics",
                "doctest_mode": "BasicMagics",
                "gui": "BasicMagics",
                "precision": "BasicMagics",
                "notebook": "BasicMagics",
                "save": "CodeMagics",
                "pastebin": "CodeMagics",
                "loadpy": "CodeMagics",
                "load": "CodeMagics",
                "edit": "KernelMagics",
                "config": "ConfigMagics",
                "prun": "ExecutionMagics",
                "pdb": "ExecutionMagics",
                "debug": "ExecutionMagics",
                "tb": "ExecutionMagics",
                "run": "ExecutionMagics",
                "timeit": "ExecutionMagics",
                "time": "ExecutionMagics",
                "macro": "ExecutionMagics",
                "load_ext": "ExtensionMagics",
                "unload_ext": "ExtensionMagics",
                "reload_ext": "ExtensionMagics",
                "history": "HistoryMagics",
                "recall": "HistoryMagics",
                "rerun": "HistoryMagics",
                "logstart": "LoggingMagics",
                "logstop": "LoggingMagics",
                "logoff": "LoggingMagics",
                "logon": "LoggingMagics",
                "logstate": "LoggingMagics",
                "pinfo": "NamespaceMagics",
                "pinfo2": "NamespaceMagics",
                "pdef": "NamespaceMagics",
                "pdoc": "NamespaceMagics",
                "psource": "NamespaceMagics",
                "pfile": "NamespaceMagics",
                "psearch": "NamespaceMagics",
                "who_ls": "NamespaceMagics",
                "who": "NamespaceMagics",
                "whos": "NamespaceMagics",
                "reset": "NamespaceMagics",
                "reset_selective": "NamespaceMagics",
                "xdel": "NamespaceMagics",
                "alias": "OSMagics",
                "unalias": "OSMagics",
                "rehashx": "OSMagics",
                "pwd": "OSMagics",
                "cd": "OSMagics",
                "env": "OSMagics",
                "set_env": "OSMagics",
                "pushd": "OSMagics",
                "popd": "OSMagics",
                "dirs": "OSMagics",
                "dhist": "OSMagics",
                "sc": "OSMagics",
                "sx": "OSMagics",
                "system": "OSMagics",
                "bookmark": "OSMagics",
                "pycat": "OSMagics",
                "pip": "Other",
                "conda": "PackagingMagics",
                "matplotlib": "PylabMagics",
                "pylab": "PylabMagics",
                "killbgscripts": "ScriptMagics",
                "autoawait": "AsyncMagics",
                "ed": "Other",
                "hist": "Other",
                "rep": "Other",
                "clear": "KernelMagics",
                "less": "KernelMagics",
                "more": "KernelMagics",
                "man": "KernelMagics",
                "connect_info": "KernelMagics",
                "qtconsole": "KernelMagics",
                "autosave": "KernelMagics",
                "mkdir": "Other",
                "rmdir": "Other",
                "mv": "Other",
                "rm": "Other",
                "cp": "Other",
                "cat": "Other",
                "ls": "Other",
                "ll": "Other",
                "lf": "Other",
                "lk": "Other",
                "ldir": "Other",
                "lx": "Other",
                "store": "StoreMagics",
                "shell": "Other",
                "tensorflow_version": "Other"
              },
              "cell": {
                "js": "DisplayMagics",
                "javascript": "DisplayMagics",
                "latex": "DisplayMagics",
                "svg": "DisplayMagics",
                "html": "DisplayMagics",
                "markdown": "DisplayMagics",
                "prun": "ExecutionMagics",
                "debug": "ExecutionMagics",
                "timeit": "ExecutionMagics",
                "time": "ExecutionMagics",
                "capture": "ExecutionMagics",
                "sx": "OSMagics",
                "system": "OSMagics",
                "!": "OSMagics",
                "writefile": "OSMagics",
                "script": "ScriptMagics",
                "sh": "Other",
                "bash": "Other",
                "perl": "Other",
                "ruby": "Other",
                "python": "Other",
                "python2": "Other",
                "python3": "Other",
                "pypy": "Other",
                "SVG": "Other",
                "HTML": "Other",
                "file": "Other",
                "bigquery": "Other",
                "shell": "Other"
              }
            }
          },
          "metadata": {},
          "execution_count": 14
        }
      ]
    },
    {
      "cell_type": "markdown",
      "source": [
        "### Basic Queries\n"
      ],
      "metadata": {
        "id": "borajWvCtRtl"
      }
    },
    {
      "cell_type": "code",
      "source": [
        "# Schemas for the entire database.\n",
        "# Schema: the structure of the database, including tables and column names, data types, and relationships.\n",
        "#Foreign keys are hidden keys.\n",
        "\n",
        "%%script sqlite3 --column --header chinook.db\n",
        ".schema"
      ],
      "metadata": {
        "colab": {
          "base_uri": "https://localhost:8080/"
        },
        "id": "F3HpOGeoqxJ_",
        "outputId": "67df3c9d-491f-4d62-b6cd-c394025f663b",
        "collapsed": true
      },
      "execution_count": 15,
      "outputs": [
        {
          "output_type": "stream",
          "name": "stdout",
          "text": [
            "CREATE TABLE IF NOT EXISTS \"albums\"\r\n",
            "(\r\n",
            "    [AlbumId] INTEGER PRIMARY KEY AUTOINCREMENT NOT NULL,\r\n",
            "    [Title] NVARCHAR(160)  NOT NULL,\r\n",
            "    [ArtistId] INTEGER  NOT NULL,\r\n",
            "    FOREIGN KEY ([ArtistId]) REFERENCES \"artists\" ([ArtistId]) \r\n",
            "\t\tON DELETE NO ACTION ON UPDATE NO ACTION\r\n",
            ");\n",
            "CREATE TABLE sqlite_sequence(name,seq);\n",
            "CREATE TABLE IF NOT EXISTS \"artists\"\r\n",
            "(\r\n",
            "    [ArtistId] INTEGER PRIMARY KEY AUTOINCREMENT NOT NULL,\r\n",
            "    [Name] NVARCHAR(120)\r\n",
            ");\n",
            "CREATE TABLE IF NOT EXISTS \"customers\"\r\n",
            "(\r\n",
            "    [CustomerId] INTEGER PRIMARY KEY AUTOINCREMENT NOT NULL,\r\n",
            "    [FirstName] NVARCHAR(40)  NOT NULL,\r\n",
            "    [LastName] NVARCHAR(20)  NOT NULL,\r\n",
            "    [Company] NVARCHAR(80),\r\n",
            "    [Address] NVARCHAR(70),\r\n",
            "    [City] NVARCHAR(40),\r\n",
            "    [State] NVARCHAR(40),\r\n",
            "    [Country] NVARCHAR(40),\r\n",
            "    [PostalCode] NVARCHAR(10),\r\n",
            "    [Phone] NVARCHAR(24),\r\n",
            "    [Fax] NVARCHAR(24),\r\n",
            "    [Email] NVARCHAR(60)  NOT NULL,\r\n",
            "    [SupportRepId] INTEGER,\r\n",
            "    FOREIGN KEY ([SupportRepId]) REFERENCES \"employees\" ([EmployeeId]) \r\n",
            "\t\tON DELETE NO ACTION ON UPDATE NO ACTION\r\n",
            ");\n",
            "CREATE TABLE IF NOT EXISTS \"employees\"\r\n",
            "(\r\n",
            "    [EmployeeId] INTEGER PRIMARY KEY AUTOINCREMENT NOT NULL,\r\n",
            "    [LastName] NVARCHAR(20)  NOT NULL,\r\n",
            "    [FirstName] NVARCHAR(20)  NOT NULL,\r\n",
            "    [Title] NVARCHAR(30),\r\n",
            "    [ReportsTo] INTEGER,\r\n",
            "    [BirthDate] DATETIME,\r\n",
            "    [HireDate] DATETIME,\r\n",
            "    [Address] NVARCHAR(70),\r\n",
            "    [City] NVARCHAR(40),\r\n",
            "    [State] NVARCHAR(40),\r\n",
            "    [Country] NVARCHAR(40),\r\n",
            "    [PostalCode] NVARCHAR(10),\r\n",
            "    [Phone] NVARCHAR(24),\r\n",
            "    [Fax] NVARCHAR(24),\r\n",
            "    [Email] NVARCHAR(60),\r\n",
            "    FOREIGN KEY ([ReportsTo]) REFERENCES \"employees\" ([EmployeeId]) \r\n",
            "\t\tON DELETE NO ACTION ON UPDATE NO ACTION\r\n",
            ");\n",
            "CREATE TABLE IF NOT EXISTS \"genres\"\r\n",
            "(\r\n",
            "    [GenreId] INTEGER PRIMARY KEY AUTOINCREMENT NOT NULL,\r\n",
            "    [Name] NVARCHAR(120)\r\n",
            ");\n",
            "CREATE TABLE IF NOT EXISTS \"invoices\"\r\n",
            "(\r\n",
            "    [InvoiceId] INTEGER PRIMARY KEY AUTOINCREMENT NOT NULL,\r\n",
            "    [CustomerId] INTEGER  NOT NULL,\r\n",
            "    [InvoiceDate] DATETIME  NOT NULL,\r\n",
            "    [BillingAddress] NVARCHAR(70),\r\n",
            "    [BillingCity] NVARCHAR(40),\r\n",
            "    [BillingState] NVARCHAR(40),\r\n",
            "    [BillingCountry] NVARCHAR(40),\r\n",
            "    [BillingPostalCode] NVARCHAR(10),\r\n",
            "    [Total] NUMERIC(10,2)  NOT NULL,\r\n",
            "    FOREIGN KEY ([CustomerId]) REFERENCES \"customers\" ([CustomerId]) \r\n",
            "\t\tON DELETE NO ACTION ON UPDATE NO ACTION\r\n",
            ");\n",
            "CREATE TABLE IF NOT EXISTS \"invoice_items\"\r\n",
            "(\r\n",
            "    [InvoiceLineId] INTEGER PRIMARY KEY AUTOINCREMENT NOT NULL,\r\n",
            "    [InvoiceId] INTEGER  NOT NULL,\r\n",
            "    [TrackId] INTEGER  NOT NULL,\r\n",
            "    [UnitPrice] NUMERIC(10,2)  NOT NULL,\r\n",
            "    [Quantity] INTEGER  NOT NULL,\r\n",
            "    FOREIGN KEY ([InvoiceId]) REFERENCES \"invoices\" ([InvoiceId]) \r\n",
            "\t\tON DELETE NO ACTION ON UPDATE NO ACTION,\r\n",
            "    FOREIGN KEY ([TrackId]) REFERENCES \"tracks\" ([TrackId]) \r\n",
            "\t\tON DELETE NO ACTION ON UPDATE NO ACTION\r\n",
            ");\n",
            "CREATE TABLE IF NOT EXISTS \"media_types\"\r\n",
            "(\r\n",
            "    [MediaTypeId] INTEGER PRIMARY KEY AUTOINCREMENT NOT NULL,\r\n",
            "    [Name] NVARCHAR(120)\r\n",
            ");\n",
            "CREATE TABLE IF NOT EXISTS \"playlists\"\r\n",
            "(\r\n",
            "    [PlaylistId] INTEGER PRIMARY KEY AUTOINCREMENT NOT NULL,\r\n",
            "    [Name] NVARCHAR(120)\r\n",
            ");\n",
            "CREATE TABLE IF NOT EXISTS \"playlist_track\"\r\n",
            "(\r\n",
            "    [PlaylistId] INTEGER  NOT NULL,\r\n",
            "    [TrackId] INTEGER  NOT NULL,\r\n",
            "    CONSTRAINT [PK_PlaylistTrack] PRIMARY KEY  ([PlaylistId], [TrackId]),\r\n",
            "    FOREIGN KEY ([PlaylistId]) REFERENCES \"playlists\" ([PlaylistId]) \r\n",
            "\t\tON DELETE NO ACTION ON UPDATE NO ACTION,\r\n",
            "    FOREIGN KEY ([TrackId]) REFERENCES \"tracks\" ([TrackId]) \r\n",
            "\t\tON DELETE NO ACTION ON UPDATE NO ACTION\r\n",
            ");\n",
            "CREATE TABLE IF NOT EXISTS \"tracks\"\r\n",
            "(\r\n",
            "    [TrackId] INTEGER PRIMARY KEY AUTOINCREMENT NOT NULL,\r\n",
            "    [Name] NVARCHAR(200)  NOT NULL,\r\n",
            "    [AlbumId] INTEGER,\r\n",
            "    [MediaTypeId] INTEGER  NOT NULL,\r\n",
            "    [GenreId] INTEGER,\r\n",
            "    [Composer] NVARCHAR(220),\r\n",
            "    [Milliseconds] INTEGER  NOT NULL,\r\n",
            "    [Bytes] INTEGER,\r\n",
            "    [UnitPrice] NUMERIC(10,2)  NOT NULL,\r\n",
            "    FOREIGN KEY ([AlbumId]) REFERENCES \"albums\" ([AlbumId]) \r\n",
            "\t\tON DELETE NO ACTION ON UPDATE NO ACTION,\r\n",
            "    FOREIGN KEY ([GenreId]) REFERENCES \"genres\" ([GenreId]) \r\n",
            "\t\tON DELETE NO ACTION ON UPDATE NO ACTION,\r\n",
            "    FOREIGN KEY ([MediaTypeId]) REFERENCES \"media_types\" ([MediaTypeId]) \r\n",
            "\t\tON DELETE NO ACTION ON UPDATE NO ACTION\r\n",
            ");\n",
            "CREATE INDEX [IFK_AlbumArtistId] ON \"albums\" ([ArtistId]);\n",
            "CREATE INDEX [IFK_CustomerSupportRepId] ON \"customers\" ([SupportRepId]);\n",
            "CREATE INDEX [IFK_EmployeeReportsTo] ON \"employees\" ([ReportsTo]);\n",
            "CREATE INDEX [IFK_InvoiceCustomerId] ON \"invoices\" ([CustomerId]);\n",
            "CREATE INDEX [IFK_InvoiceLineInvoiceId] ON \"invoice_items\" ([InvoiceId]);\n",
            "CREATE INDEX [IFK_InvoiceLineTrackId] ON \"invoice_items\" ([TrackId]);\n",
            "CREATE INDEX [IFK_PlaylistTrackTrackId] ON \"playlist_track\" ([TrackId]);\n",
            "CREATE INDEX [IFK_TrackAlbumId] ON \"tracks\" ([AlbumId]);\n",
            "CREATE INDEX [IFK_TrackGenreId] ON \"tracks\" ([GenreId]);\n",
            "CREATE INDEX [IFK_TrackMediaTypeId] ON \"tracks\" ([MediaTypeId]);\n",
            "CREATE TABLE sqlite_stat1(tbl,idx,stat);\n"
          ]
        }
      ]
    },
    {
      "cell_type": "code",
      "source": [
        "# Names of tables in the database\n",
        "%%script sqlite3 --column --header chinook.db\n",
        ".tables"
      ],
      "metadata": {
        "colab": {
          "base_uri": "https://localhost:8080/"
        },
        "id": "EIiwBlp4LYu8",
        "outputId": "4d43cd25-0cb1-48e9-de01-f8c578e61b96"
      },
      "execution_count": 16,
      "outputs": [
        {
          "output_type": "stream",
          "name": "stdout",
          "text": [
            "albums          employees       invoices        playlists     \n",
            "artists         genres          media_types     tracks        \n",
            "customers       invoice_items   playlist_track\n"
          ]
        }
      ]
    },
    {
      "cell_type": "code",
      "source": [
        "# Print the first 3 row of each table in schema tracks\n",
        "%%script sqlite3 --column --header chinook.db\n",
        "SELECT * FROM tracks LIMIT 25;\n",
        "SELECT * FROM albums LIMIT 25;\n",
        "SELECT * FROM artists LIMIT 25;\n",
        "SELECT * FROM customers LIMIT 3;\n",
        "SELECT * FROM employees LIMIT 3;\n",
        "SELECT * FROM genres LIMIT 25;\n",
        "SELECT * FROM invoice_items LIMIT 3;\n",
        "SELECT * FROM invoices LIMIT 3;\n",
        "SELECT * FROM media_types LIMIT 10;\n",
        "SELECT * FROM playlist_track LIMIT 3;\n",
        "SELECT * FROM playlists LIMIT 3;"
      ],
      "metadata": {
        "colab": {
          "base_uri": "https://localhost:8080/"
        },
        "id": "8OOwY5_OaJsu",
        "outputId": "a1514771-6330-4ead-ce91-3f657b92beb7"
      },
      "execution_count": 17,
      "outputs": [
        {
          "output_type": "stream",
          "name": "stdout",
          "text": [
            "TrackId  Name                                     AlbumId  MediaTypeId  GenreId  Composer                                                                Milliseconds  Bytes     UnitPrice\n",
            "-------  ---------------------------------------  -------  -----------  -------  ----------------------------------------------------------------------  ------------  --------  ---------\n",
            "1        For Those About To Rock (We Salute You)  1        1            1        Angus Young, Malcolm Young, Brian Johnson                               343719        11170334  0.99     \n",
            "2        Balls to the Wall                        2        2            1                                                                                342562        5510424   0.99     \n",
            "3        Fast As a Shark                          3        2            1        F. Baltes, S. Kaufman, U. Dirkscneider & W. Hoffman                     230619        3990994   0.99     \n",
            "4        Restless and Wild                        3        2            1        F. Baltes, R.A. Smith-Diesel, S. Kaufman, U. Dirkscneider & W. Hoffman  252051        4331779   0.99     \n",
            "5        Princess of the Dawn                     3        2            1        Deaffy & R.A. Smith-Diesel                                              375418        6290521   0.99     \n",
            "6        Put The Finger On You                    1        1            1        Angus Young, Malcolm Young, Brian Johnson                               205662        6713451   0.99     \n",
            "7        Let's Get It Up                          1        1            1        Angus Young, Malcolm Young, Brian Johnson                               233926        7636561   0.99     \n",
            "8        Inject The Venom                         1        1            1        Angus Young, Malcolm Young, Brian Johnson                               210834        6852860   0.99     \n",
            "9        Snowballed                               1        1            1        Angus Young, Malcolm Young, Brian Johnson                               203102        6599424   0.99     \n",
            "10       Evil Walks                               1        1            1        Angus Young, Malcolm Young, Brian Johnson                               263497        8611245   0.99     \n",
            "11       C.O.D.                                   1        1            1        Angus Young, Malcolm Young, Brian Johnson                               199836        6566314   0.99     \n",
            "12       Breaking The Rules                       1        1            1        Angus Young, Malcolm Young, Brian Johnson                               263288        8596840   0.99     \n",
            "13       Night Of The Long Knives                 1        1            1        Angus Young, Malcolm Young, Brian Johnson                               205688        6706347   0.99     \n",
            "14       Spellbound                               1        1            1        Angus Young, Malcolm Young, Brian Johnson                               270863        8817038   0.99     \n",
            "15       Go Down                                  4        1            1        AC/DC                                                                   331180        10847611  0.99     \n",
            "16       Dog Eat Dog                              4        1            1        AC/DC                                                                   215196        7032162   0.99     \n",
            "17       Let There Be Rock                        4        1            1        AC/DC                                                                   366654        12021261  0.99     \n",
            "18       Bad Boy Boogie                           4        1            1        AC/DC                                                                   267728        8776140   0.99     \n",
            "19       Problem Child                            4        1            1        AC/DC                                                                   325041        10617116  0.99     \n",
            "20       Overdose                                 4        1            1        AC/DC                                                                   369319        12066294  0.99     \n",
            "21       Hell Ain't A Bad Place To Be             4        1            1        AC/DC                                                                   254380        8331286   0.99     \n",
            "22       Whole Lotta Rosie                        4        1            1        AC/DC                                                                   323761        10547154  0.99     \n",
            "23       Walk On Water                            5        1            1        Steven Tyler, Joe Perry, Jack Blades, Tommy Shaw                        295680        9719579   0.99     \n",
            "24       Love In An Elevator                      5        1            1        Steven Tyler, Joe Perry                                                 321828        10552051  0.99     \n",
            "25       Rag Doll                                 5        1            1        Steven Tyler, Joe Perry, Jim Vallance, Holly Knight                     264698        8675345   0.99     \n",
            "AlbumId  Title                                             ArtistId\n",
            "-------  ------------------------------------------------  --------\n",
            "1        For Those About To Rock We Salute You             1       \n",
            "2        Balls to the Wall                                 2       \n",
            "3        Restless and Wild                                 2       \n",
            "4        Let There Be Rock                                 1       \n",
            "5        Big Ones                                          3       \n",
            "6        Jagged Little Pill                                4       \n",
            "7        Facelift                                          5       \n",
            "8        Warner 25 Anos                                    6       \n",
            "9        Plays Metallica By Four Cellos                    7       \n",
            "10       Audioslave                                        8       \n",
            "11       Out Of Exile                                      8       \n",
            "12       BackBeat Soundtrack                               9       \n",
            "13       The Best Of Billy Cobham                          10      \n",
            "14       Alcohol Fueled Brewtality Live! [Disc 1]          11      \n",
            "15       Alcohol Fueled Brewtality Live! [Disc 2]          11      \n",
            "16       Black Sabbath                                     12      \n",
            "17       Black Sabbath Vol. 4 (Remaster)                   12      \n",
            "18       Body Count                                        13      \n",
            "19       Chemical Wedding                                  14      \n",
            "20       The Best Of Buddy Guy - The Millenium Collection  15      \n",
            "21       Prenda Minha                                      16      \n",
            "22       Sozinho Remix Ao Vivo                             16      \n",
            "23       Minha Historia                                    17      \n",
            "24       Afrociberdelia                                    18      \n",
            "25       Da Lama Ao Caos                                   18      \n",
            "ArtistId  Name                           \n",
            "--------  -------------------------------\n",
            "1         AC/DC                          \n",
            "2         Accept                         \n",
            "3         Aerosmith                      \n",
            "4         Alanis Morissette              \n",
            "5         Alice In Chains                \n",
            "6         Antônio Carlos Jobim           \n",
            "7         Apocalyptica                   \n",
            "8         Audioslave                     \n",
            "9         BackBeat                       \n",
            "10        Billy Cobham                   \n",
            "11        Black Label Society            \n",
            "12        Black Sabbath                  \n",
            "13        Body Count                     \n",
            "14        Bruce Dickinson                \n",
            "15        Buddy Guy                      \n",
            "16        Caetano Veloso                 \n",
            "17        Chico Buarque                  \n",
            "18        Chico Science & Nação Zumbi    \n",
            "19        Cidade Negra                   \n",
            "20        Cláudio Zoli                   \n",
            "21        Various Artists                \n",
            "22        Led Zeppelin                   \n",
            "23        Frank Zappa & Captain Beefheart\n",
            "24        Marcos Valle                   \n",
            "25        Milton Nascimento & Bebeto     \n",
            "CustomerId  FirstName  LastName   Company                                           Address                          City                 State  Country  PostalCode  Phone               Fax                 Email                  SupportRepId\n",
            "----------  ---------  ---------  ------------------------------------------------  -------------------------------  -------------------  -----  -------  ----------  ------------------  ------------------  ---------------------  ------------\n",
            "1           Luís       Gonçalves  Embraer - Empresa Brasileira de Aeronáutica S.A.  Av. Brigadeiro Faria Lima, 2170  São José dos Campos  SP     Brazil   12227-000   +55 (12) 3923-5555  +55 (12) 3923-5566  luisg@embraer.com.br   3           \n",
            "2           Leonie     Köhler                                                       Theodor-Heuss-Straße 34          Stuttgart                   Germany  70174       +49 0711 2842222                        leonekohler@surfeu.de  5           \n",
            "3           François   Tremblay                                                     1498 rue Bélanger                Montréal             QC     Canada   H2G 1A7     +1 (514) 721-4711                       ftremblay@gmail.com    3           \n",
            "EmployeeId  LastName  FirstName  Title                ReportsTo  BirthDate            HireDate             Address              City      State  Country  PostalCode  Phone              Fax                Email                 \n",
            "----------  --------  ---------  -------------------  ---------  -------------------  -------------------  -------------------  --------  -----  -------  ----------  -----------------  -----------------  ----------------------\n",
            "1           Adams     Andrew     General Manager                 1962-02-18 00:00:00  2002-08-14 00:00:00  11120 Jasper Ave NW  Edmonton  AB     Canada   T5K 2N1     +1 (780) 428-9482  +1 (780) 428-3457  andrew@chinookcorp.com\n",
            "2           Edwards   Nancy      Sales Manager        1          1958-12-08 00:00:00  2002-05-01 00:00:00  825 8 Ave SW         Calgary   AB     Canada   T2P 2T3     +1 (403) 262-3443  +1 (403) 262-3322  nancy@chinookcorp.com \n",
            "3           Peacock   Jane       Sales Support Agent  2          1973-08-29 00:00:00  2002-04-01 00:00:00  1111 6 Ave SW        Calgary   AB     Canada   T2P 5M5     +1 (403) 262-3443  +1 (403) 262-6712  jane@chinookcorp.com  \n",
            "GenreId  Name              \n",
            "-------  ------------------\n",
            "1        Rock              \n",
            "2        Jazz              \n",
            "3        Metal             \n",
            "4        Alternative & Punk\n",
            "5        Rock And Roll     \n",
            "6        Blues             \n",
            "7        Latin             \n",
            "8        Reggae            \n",
            "9        Pop               \n",
            "10       Soundtrack        \n",
            "11       Bossa Nova        \n",
            "12       Easy Listening    \n",
            "13       Heavy Metal       \n",
            "14       R&B/Soul          \n",
            "15       Electronica/Dance \n",
            "16       World             \n",
            "17       Hip Hop/Rap       \n",
            "18       Science Fiction   \n",
            "19       TV Shows          \n",
            "20       Sci Fi & Fantasy  \n",
            "21       Drama             \n",
            "22       Comedy            \n",
            "23       Alternative       \n",
            "24       Classical         \n",
            "25       Opera             \n",
            "InvoiceLineId  InvoiceId  TrackId  UnitPrice  Quantity\n",
            "-------------  ---------  -------  ---------  --------\n",
            "1              1          2        0.99       1       \n",
            "2              1          4        0.99       1       \n",
            "3              2          6        0.99       1       \n",
            "InvoiceId  CustomerId  InvoiceDate          BillingAddress           BillingCity  BillingState  BillingCountry  BillingPostalCode  Total\n",
            "---------  ----------  -------------------  -----------------------  -----------  ------------  --------------  -----------------  -----\n",
            "1          2           2009-01-01 00:00:00  Theodor-Heuss-Straße 34  Stuttgart                  Germany         70174              1.98 \n",
            "2          4           2009-01-02 00:00:00  Ullevålsveien 14         Oslo                       Norway          0171               3.96 \n",
            "3          8           2009-01-03 00:00:00  Grétrystraat 63          Brussels                   Belgium         1000               5.94 \n",
            "MediaTypeId  Name                       \n",
            "-----------  ---------------------------\n",
            "1            MPEG audio file            \n",
            "2            Protected AAC audio file   \n",
            "3            Protected MPEG-4 video file\n",
            "4            Purchased AAC audio file   \n",
            "5            AAC audio file             \n",
            "PlaylistId  TrackId\n",
            "----------  -------\n",
            "1           3402   \n",
            "1           3389   \n",
            "1           3390   \n",
            "PlaylistId  Name    \n",
            "----------  --------\n",
            "1           Music   \n",
            "2           Movies  \n",
            "3           TV Shows\n"
          ]
        }
      ]
    },
    {
      "cell_type": "markdown",
      "source": [
        "#### SELECT (with * and with column names)\n"
      ],
      "metadata": {
        "id": "gIEIK51EthwM"
      }
    },
    {
      "cell_type": "code",
      "source": [
        "# Verify the data\n",
        "# SELECT COUNT(*) FROM table_name WHERE column_name IS NULL;\n",
        "%%script sqlite3 --column --header chinook.db\n",
        "SELECT COUNT(*) FROM genres WHERE GenreId IS NULL;"
      ],
      "metadata": {
        "colab": {
          "base_uri": "https://localhost:8080/"
        },
        "id": "Mh_HvvtbNDzc",
        "outputId": "28300f5d-7cd5-4dfc-cbdf-de70d0e240ee"
      },
      "execution_count": 18,
      "outputs": [
        {
          "output_type": "stream",
          "name": "stdout",
          "text": [
            "COUNT(*)\n",
            "--------\n",
            "0       \n"
          ]
        }
      ]
    },
    {
      "cell_type": "code",
      "source": [
        "# List the genreIDs by name\n",
        "%%script sqlite3 --column --header chinook.db\n",
        "SELECT genreID, Name\n",
        "FROM genres"
      ],
      "metadata": {
        "colab": {
          "base_uri": "https://localhost:8080/"
        },
        "id": "uIoa-vFqrkqt",
        "outputId": "d4fd583f-f1da-4573-c89e-206188344550"
      },
      "execution_count": 19,
      "outputs": [
        {
          "output_type": "stream",
          "name": "stdout",
          "text": [
            "GenreId  Name              \n",
            "-------  ------------------\n",
            "1        Rock              \n",
            "2        Jazz              \n",
            "3        Metal             \n",
            "4        Alternative & Punk\n",
            "5        Rock And Roll     \n",
            "6        Blues             \n",
            "7        Latin             \n",
            "8        Reggae            \n",
            "9        Pop               \n",
            "10       Soundtrack        \n",
            "11       Bossa Nova        \n",
            "12       Easy Listening    \n",
            "13       Heavy Metal       \n",
            "14       R&B/Soul          \n",
            "15       Electronica/Dance \n",
            "16       World             \n",
            "17       Hip Hop/Rap       \n",
            "18       Science Fiction   \n",
            "19       TV Shows          \n",
            "20       Sci Fi & Fantasy  \n",
            "21       Drama             \n",
            "22       Comedy            \n",
            "23       Alternative       \n",
            "24       Classical         \n",
            "25       Opera             \n"
          ]
        }
      ]
    },
    {
      "cell_type": "markdown",
      "source": [
        "#### WHERE column is = ' '\n"
      ],
      "metadata": {
        "id": "dRvXfTGEtkdQ"
      }
    },
    {
      "cell_type": "code",
      "source": [
        "# Return the 'Rock' item from the genreID column from the genres table\n",
        "%%script sqlite3 --column --header chinook.db\n",
        "SELECT genreID, Name\n",
        "FROM genres\n",
        "WHERE Name is 'Blues'"
      ],
      "metadata": {
        "colab": {
          "base_uri": "https://localhost:8080/"
        },
        "id": "PoAg-fNXEbcF",
        "outputId": "31389f95-2a41-4935-8d04-ed30ba2d88d0"
      },
      "execution_count": 20,
      "outputs": [
        {
          "output_type": "stream",
          "name": "stdout",
          "text": [
            "GenreId  Name \n",
            "-------  -----\n",
            "6        Blues\n"
          ]
        }
      ]
    },
    {
      "cell_type": "markdown",
      "source": [
        "#### AND\n"
      ],
      "metadata": {
        "id": "u5y_3d4GtlqN"
      }
    },
    {
      "cell_type": "code",
      "source": [
        "# Using Table 'tracks' find Alanis Morisette as Composer for album 'Jagged Little Pill'\n",
        "%%script sqlite3 --column --header chinook.db\n",
        "SELECT AlbumID, Composer\n",
        "FROM tracks\n",
        "WHERE Composer = '4'\n",
        "AND AlbumId = '6'"
      ],
      "metadata": {
        "id": "Gg0ftdf1Im7d"
      },
      "execution_count": 21,
      "outputs": []
    },
    {
      "cell_type": "markdown",
      "source": [
        "#### LIKE (with % or _ wildcard)\n"
      ],
      "metadata": {
        "id": "-csoeatGtpRq"
      }
    },
    {
      "cell_type": "code",
      "source": [
        "# Using Table 'tracks' find Alanis Morisette as Composer for album 'Jagged Little Pill'\n",
        "\n",
        "%%script sqlite3 --column --header chinook.db\n",
        "SELECT AlbumID, Composer\n",
        "FROM tracks\n",
        "WHERE Composer LIKE '%Morisette%'\n",
        "AND AlbumId LIKE 'Jagged_%'"
      ],
      "metadata": {
        "id": "u2xFpm60KVAh"
      },
      "execution_count": 22,
      "outputs": []
    },
    {
      "cell_type": "markdown",
      "source": [
        "#### OR\n"
      ],
      "metadata": {
        "id": "fddyzEAetnzB"
      }
    },
    {
      "cell_type": "code",
      "source": [
        "# Return the 'Rock' item from the genreID column from the genres table\n",
        "%%script sqlite3 --column --header chinook.db\n",
        "SELECT genreID, Name\n",
        "FROM genres\n",
        "WHERE Name = 'Rock'\n",
        "OR Name = \"Rock And Roll\";"
      ],
      "metadata": {
        "colab": {
          "base_uri": "https://localhost:8080/"
        },
        "id": "JbO7Z_PLpRGX",
        "outputId": "978b6187-df82-4dbd-9387-1b52eb11ddc9"
      },
      "execution_count": 23,
      "outputs": [
        {
          "output_type": "stream",
          "name": "stdout",
          "text": [
            "GenreId  Name         \n",
            "-------  -------------\n",
            "1        Rock         \n",
            "5        Rock And Roll\n"
          ]
        }
      ]
    },
    {
      "cell_type": "markdown",
      "source": [],
      "metadata": {
        "id": "D541yPLOKZp_"
      }
    },
    {
      "cell_type": "markdown",
      "source": [
        "#### BETWEEN\n"
      ],
      "metadata": {
        "id": "BV8kQ-9FtqGY"
      }
    },
    {
      "cell_type": "code",
      "source": [
        "%%script sqlite3 --column --header chinook.db\n",
        "SELECT *\n",
        "FROM genres\n",
        "WHERE GenreId BETWEEN 1 AND 6  -- Covers the range including 1, 5, and 6;"
      ],
      "metadata": {
        "id": "UB3EyaRRt9ki",
        "colab": {
          "base_uri": "https://localhost:8080/"
        },
        "outputId": "83c7009b-6dbc-4988-c031-e8350213e198"
      },
      "execution_count": 24,
      "outputs": [
        {
          "output_type": "stream",
          "name": "stdout",
          "text": [
            "GenreId  Name              \n",
            "-------  ------------------\n",
            "1        Rock              \n",
            "2        Jazz              \n",
            "3        Metal             \n",
            "4        Alternative & Punk\n",
            "5        Rock And Roll     \n",
            "6        Blues             \n"
          ]
        }
      ]
    },
    {
      "cell_type": "markdown",
      "source": [
        "#### LIMIT\n",
        "\n"
      ],
      "metadata": {
        "id": "3BqrCUPBtqpX"
      }
    },
    {
      "cell_type": "code",
      "source": [
        "# Select the Sales agents from the employees table\n",
        "%%script sqlite3 --column --header chinook.db\n",
        "SELECT Title, FirstName, LastName\n",
        "FROM employees\n",
        "WHERE Title = 'Sales Support Agent'\n",
        "LIMIT 10"
      ],
      "metadata": {
        "id": "_j70gBj7pOFm",
        "colab": {
          "base_uri": "https://localhost:8080/"
        },
        "outputId": "ef3d3c5e-5da4-439c-ad02-6b536b78ff4d"
      },
      "execution_count": 25,
      "outputs": [
        {
          "output_type": "stream",
          "name": "stdout",
          "text": [
            "Title                FirstName  LastName\n",
            "-------------------  ---------  --------\n",
            "Sales Support Agent  Jane       Peacock \n",
            "Sales Support Agent  Margaret   Park    \n",
            "Sales Support Agent  Steve      Johnson \n"
          ]
        }
      ]
    },
    {
      "cell_type": "markdown",
      "source": [
        "### Sorting and Grouping\n"
      ],
      "metadata": {
        "id": "a4DtPW7ytrU7"
      }
    },
    {
      "cell_type": "markdown",
      "source": [
        "#### GROUP BY\n",
        "\n"
      ],
      "metadata": {
        "id": "Q0mwAOgettPz"
      }
    },
    {
      "cell_type": "code",
      "source": [
        "#Group By\n",
        "\n",
        "%%script sqlite3 --column --header chinook.db\n",
        "SELECT MediaTypeID, UnitPrice, COUNT(*) AS unit_price_counts\n",
        "   FROM tracks\n",
        "   GROUP BY MediaTypeID, UnitPrice\n",
        "   LIMIT 10"
      ],
      "metadata": {
        "collapsed": true,
        "id": "kaBv5D14pmmb",
        "colab": {
          "base_uri": "https://localhost:8080/"
        },
        "outputId": "e36b421f-c26f-431f-e3e5-1c6f5105c762"
      },
      "execution_count": 26,
      "outputs": [
        {
          "output_type": "stream",
          "name": "stdout",
          "text": [
            "MediaTypeId  UnitPrice  unit_price_counts\n",
            "-----------  ---------  -----------------\n",
            "1            0.99       3034             \n",
            "2            0.99       237              \n",
            "3            0.99       1                \n",
            "3            1.99       213              \n",
            "4            0.99       7                \n",
            "5            0.99       11               \n"
          ]
        }
      ]
    },
    {
      "cell_type": "markdown",
      "source": [
        "#### ORDER BY\n"
      ],
      "metadata": {
        "id": "SneUyw4Xtr-U"
      }
    },
    {
      "cell_type": "code",
      "source": [
        "#Order By - add pragma?\n",
        "\n",
        "%%script sqlite3 --column --header chinook.db\n",
        "SELECT MediaTypeID, UnitPrice, COUNT(*) AS unit_price_counts\n",
        "   FROM tracks\n",
        "   GROUP BY MediaTypeID, UnitPrice\n",
        "   ORDER BY unit_price_counts DESC\n",
        "   LIMIT 10"
      ],
      "metadata": {
        "id": "29jQ-pBFt7uf",
        "collapsed": true,
        "colab": {
          "base_uri": "https://localhost:8080/"
        },
        "outputId": "63217bdb-9d7b-4f5d-b46c-0eddbbfb2f79"
      },
      "execution_count": 27,
      "outputs": [
        {
          "output_type": "stream",
          "name": "stdout",
          "text": [
            "MediaTypeId  UnitPrice  unit_price_counts\n",
            "-----------  ---------  -----------------\n",
            "1            0.99       3034             \n",
            "2            0.99       237              \n",
            "3            1.99       213              \n",
            "5            0.99       11               \n",
            "4            0.99       7                \n",
            "3            0.99       1                \n"
          ]
        }
      ]
    },
    {
      "cell_type": "markdown",
      "source": [
        "#### DISTINCT\n"
      ],
      "metadata": {
        "id": "Y22yRW5Wtsl1"
      }
    },
    {
      "cell_type": "code",
      "source": [
        "#Distinct track titles, counted\n",
        "\n",
        "%%script sqlite3 --column --header chinook.db\n",
        "\n",
        "SELECT DISTINCT TrackID, Count(*) AS playlist_track_counts\n",
        "FROM playlist_track\n",
        "GROUP BY TrackID\n",
        "ORDER BY playlist_track_counts DESC\n",
        "LIMIT 10"
      ],
      "metadata": {
        "id": "RGkf7Qh1t7Cm",
        "collapsed": true,
        "colab": {
          "base_uri": "https://localhost:8080/"
        },
        "outputId": "99d6a7c1-7add-48a1-b964-a9878090d95f"
      },
      "execution_count": 28,
      "outputs": [
        {
          "output_type": "stream",
          "name": "stdout",
          "text": [
            "TrackId  playlist_track_counts\n",
            "-------  ---------------------\n",
            "3403     5                    \n",
            "3404     5                    \n",
            "3408     5                    \n",
            "3409     5                    \n",
            "3410     5                    \n",
            "3411     5                    \n",
            "3415     5                    \n",
            "3416     5                    \n",
            "3417     5                    \n",
            "3418     5                    \n"
          ]
        }
      ]
    },
    {
      "cell_type": "markdown",
      "source": [
        "### Aggregates\n"
      ],
      "metadata": {
        "id": "dJUO6Dh3tt5c"
      }
    },
    {
      "cell_type": "markdown",
      "source": [
        "#### MAX\n",
        "SELECT MAX(column_name)\n",
        "FROM table_name\n",
        "WHERE condition / GROUP BY ;\n"
      ],
      "metadata": {
        "id": "spacz18MtvBo"
      }
    },
    {
      "cell_type": "code",
      "source": [
        "#JOIN tables, Invoice_Items (to get UnitPrice) & Tracks (to get songs) & Invoices (to get dates), to find the MAX for the top 10 tracks (songs) with the highest sales on what date?\n",
        "\n",
        "%%script sqlite3 --column --header chinook.db\n",
        "SELECT\n",
        "    t.Name AS TrackName,  -- Get the track name\n",
        "    MAX(ii.UnitPrice * ii.Quantity) AS MaxSale,  -- Calculate the maximum sale for each track\n",
        "    i.InvoiceDate  -- Get the invoice date\n",
        "FROM invoice_items ii\n",
        "JOIN tracks t ON ii.TrackId = t.TrackId  -- Join with tracks table\n",
        "JOIN invoices i ON ii.InvoiceId = i.InvoiceId  -- Join with invoices table to get date\n",
        "GROUP BY t.TrackId  -- Group by track\n",
        "ORDER BY MaxSale DESC  -- Order by maximum sale in descending order\n",
        "LIMIT 10;  -- Get the top 10"
      ],
      "metadata": {
        "collapsed": true,
        "id": "tPI5BoVuJzE4",
        "colab": {
          "base_uri": "https://localhost:8080/"
        },
        "outputId": "ee18f1bc-9a38-4541-b56e-73a29917daba"
      },
      "execution_count": 29,
      "outputs": [
        {
          "output_type": "stream",
          "name": "stdout",
          "text": [
            "TrackName               MaxSale  InvoiceDate        \n",
            "----------------------  -------  -------------------\n",
            "Occupation / Precipice  1.99     2010-01-10 00:00:00\n",
            "Exodus, Pt. 1           1.99     2011-04-23 00:00:00\n",
            "Exodus, Pt. 2           1.99     2012-07-31 00:00:00\n",
            "Collaborators           1.99     2013-11-13 00:00:00\n",
            "Hero                    1.99     2010-01-13 00:00:00\n",
            "Unfinished Business     1.99     2011-04-23 00:00:00\n",
            "The Passage             1.99     2012-07-31 00:00:00\n",
            "The Woman King          1.99     2010-01-13 00:00:00\n",
            "A Day In the Life       1.99     2011-04-23 00:00:00\n",
            "Crossroads, Pt. 1       1.99     2012-08-05 00:00:00\n"
          ]
        }
      ]
    },
    {
      "cell_type": "markdown",
      "source": [
        "#### MIN\n"
      ],
      "metadata": {
        "id": "V0z33BTztvoP"
      }
    },
    {
      "cell_type": "code",
      "source": [
        "#JOIN tables, Invoice_Items (to get UnitPrice) & Tracks (to get songs) & Invoices (to get dates), to find the MIN for the top 10 tracks (songs) with the highest sales on what date?\n",
        "\n",
        "%%script sqlite3 --column --header chinook.db\n",
        "SELECT\n",
        "    t.Name AS TrackName,  -- Get the track name\n",
        "    MAX(ii.UnitPrice * ii.Quantity) AS MaxSale,  -- Calculate the maximum sale for each track\n",
        "    i.InvoiceDate  -- Get the invoice date\n",
        "FROM invoice_items ii\n",
        "JOIN tracks t ON ii.TrackId = t.TrackId  -- Join with tracks table\n",
        "JOIN invoices i ON ii.InvoiceId = i.InvoiceId  -- Join with invoices table to get date\n",
        "GROUP BY t.TrackId  -- Group by track\n",
        "ORDER BY MaxSale DESC  -- Order by maximum sale in descending order\n",
        "LIMIT 10;  -- Get the top 10"
      ],
      "metadata": {
        "id": "ishdZ9K3t1fh",
        "colab": {
          "base_uri": "https://localhost:8080/"
        },
        "outputId": "c0abe3ac-01d4-49b0-b38b-4ecb9cc9ba31"
      },
      "execution_count": 30,
      "outputs": [
        {
          "output_type": "stream",
          "name": "stdout",
          "text": [
            "TrackName               MaxSale  InvoiceDate        \n",
            "----------------------  -------  -------------------\n",
            "Occupation / Precipice  1.99     2010-01-10 00:00:00\n",
            "Exodus, Pt. 1           1.99     2011-04-23 00:00:00\n",
            "Exodus, Pt. 2           1.99     2012-07-31 00:00:00\n",
            "Collaborators           1.99     2013-11-13 00:00:00\n",
            "Hero                    1.99     2010-01-13 00:00:00\n",
            "Unfinished Business     1.99     2011-04-23 00:00:00\n",
            "The Passage             1.99     2012-07-31 00:00:00\n",
            "The Woman King          1.99     2010-01-13 00:00:00\n",
            "A Day In the Life       1.99     2011-04-23 00:00:00\n",
            "Crossroads, Pt. 1       1.99     2012-08-05 00:00:00\n"
          ]
        }
      ]
    },
    {
      "cell_type": "markdown",
      "source": [
        "#### SUM\n"
      ],
      "metadata": {
        "id": "nLYsB9M8twMf"
      }
    },
    {
      "cell_type": "code",
      "source": [
        "#JOIN tables, Invoice_Items & Tracks, to find the top 10 tracks (songs) with the highest cumulative sales\n",
        "\n",
        "%%script sqlite3 --column --header chinook.db\n",
        "SELECT\n",
        "    SUM(ii.UnitPrice * ii.Quantity) AS TotalSales\n",
        "FROM invoice_items ii\n",
        "JOIN invoices i ON ii.InvoiceId = i.InvoiceId\n",
        "WHERE i.InvoiceDate BETWEEN '2009-01-01' AND '2013-12-31'\n",
        "LIMIT 10"
      ],
      "metadata": {
        "id": "aoVDwom0t0zN",
        "collapsed": true,
        "colab": {
          "base_uri": "https://localhost:8080/"
        },
        "outputId": "d4f99fd5-ccf8-42c0-c9b6-cc9301477416"
      },
      "execution_count": 31,
      "outputs": [
        {
          "output_type": "stream",
          "name": "stdout",
          "text": [
            "TotalSales      \n",
            "----------------\n",
            "2328.59999999996\n"
          ]
        }
      ]
    },
    {
      "cell_type": "markdown",
      "source": [
        "#### AVG\n",
        "SELECT AVG(numeric column)\n",
        "FROM table;\n"
      ],
      "metadata": {
        "id": "0yI5K0Z5twwB"
      }
    },
    {
      "cell_type": "code",
      "source": [
        "#Average sales per genre\n",
        "%%script sqlite3 --column --header chinook.db\n",
        "\n",
        "SELECT AVG(UnitPrice) AS AveragePrice, GenreId\n",
        "FROM tracks\n",
        "GROUP BY GenreId\n",
        "LIMIT 25;"
      ],
      "metadata": {
        "id": "HkNbzJ4mtzgD",
        "colab": {
          "base_uri": "https://localhost:8080/"
        },
        "outputId": "4b25c6c2-7579-49c3-88b9-2b6b3084aedd"
      },
      "execution_count": 32,
      "outputs": [
        {
          "output_type": "stream",
          "name": "stdout",
          "text": [
            "AveragePrice       GenreId\n",
            "-----------------  -------\n",
            "0.990000000000008  1      \n",
            "0.989999999999998  2      \n",
            "0.990000000000005  3      \n",
            "0.990000000000005  4      \n",
            "0.99               5      \n",
            "0.989999999999999  6      \n",
            "0.990000000000007  7      \n",
            "0.990000000000001  8      \n",
            "0.99               9      \n",
            "0.99               10     \n",
            "0.99               11     \n",
            "0.99               12     \n",
            "0.989999999999999  13     \n",
            "0.990000000000001  14     \n",
            "0.989999999999999  15     \n",
            "0.989999999999999  16     \n",
            "0.99               17     \n",
            "1.99               18     \n",
            "1.99               19     \n",
            "1.99               20     \n",
            "1.99               21     \n",
            "1.99               22     \n",
            "0.99               23     \n",
            "0.99               24     \n",
            "0.99               25     \n"
          ]
        }
      ]
    },
    {
      "cell_type": "markdown",
      "source": [
        "#### COUNT\n",
        "\n"
      ],
      "metadata": {
        "id": "JEkDbYyutxX5"
      }
    },
    {
      "cell_type": "code",
      "source": [
        "#Counts per genre, JOIN tables, Invoice_Items & Tracks & Genres, then group by genreid\n",
        "%%script sqlite3 --column --header chinook.db\n",
        "\n",
        "SELECT COUNT(*) AS Count, g.Name AS Genre\n",
        "FROM Invoice_Items ii\n",
        "JOIN Tracks t ON ii.TrackId = t.TrackId\n",
        "JOIN Genres g ON t.GenreId = g.GenreId\n",
        "GROUP BY g.GenreId\n",
        "LIMIT 25;"
      ],
      "metadata": {
        "id": "NMrvo0jE6LL9",
        "colab": {
          "base_uri": "https://localhost:8080/"
        },
        "outputId": "88982b57-aa37-4c90-f79e-76104e321939"
      },
      "execution_count": 33,
      "outputs": [
        {
          "output_type": "stream",
          "name": "stdout",
          "text": [
            "Count  Genre             \n",
            "-----  ------------------\n",
            "835    Rock              \n",
            "80     Jazz              \n",
            "264    Metal             \n",
            "244    Alternative & Punk\n",
            "6      Rock And Roll     \n",
            "61     Blues             \n",
            "386    Latin             \n",
            "30     Reggae            \n",
            "28     Pop               \n",
            "20     Soundtrack        \n",
            "15     Bossa Nova        \n",
            "10     Easy Listening    \n",
            "12     Heavy Metal       \n",
            "41     R&B/Soul          \n",
            "12     Electronica/Dance \n",
            "13     World             \n",
            "17     Hip Hop/Rap       \n",
            "6      Science Fiction   \n",
            "47     TV Shows          \n",
            "20     Sci Fi & Fantasy  \n",
            "29     Drama             \n",
            "9      Comedy            \n",
            "14     Alternative       \n",
            "41     Classical         \n"
          ]
        }
      ]
    },
    {
      "cell_type": "markdown",
      "source": [
        "## Make some plots\n",
        "\n",
        "Make some cool plots to go with your data. Write SQL queries to get ONLY the information you need for each plot. (Don't pull ALL the data and then just plot a few columns.)\n",
        "\n"
      ],
      "metadata": {
        "id": "ntL8dHJT57K8"
      }
    },
    {
      "cell_type": "code",
      "source": [
        "# Import pandas to create a df in addition to sqlite\n",
        "\n",
        "import pandas as pd\n",
        "import sqlite3\n",
        "\n",
        "# Connect to the database\n",
        "connection = sqlite3.connect('chinook.db')\n",
        "\n",
        "# #Counts per genre, JOIN tables, Invoice_Items & Tracks & Genres, then group by genreid\n",
        "query = '''\n",
        "SELECT COUNT(*) AS Count, g.Name AS Genre\n",
        "FROM Invoice_Items ii\n",
        "JOIN Tracks t ON ii.TrackId = t.TrackId\n",
        "JOIN Genres g ON t.GenreId = g.GenreId\n",
        "GROUP BY g.GenreId\n",
        "LIMIT 25;\n",
        "'''\n",
        "\n",
        "# Execute the query and store the results in a DataFrame\n",
        "df_genre_count = pd.read_sql_query(query, connection)\n",
        "\n",
        "# Check the dataframe\n",
        "print(df_genre_count.head(25))\n",
        "\n",
        "# Close the connection\n",
        "connection.close()"
      ],
      "metadata": {
        "colab": {
          "base_uri": "https://localhost:8080/"
        },
        "id": "fxMQd2Ipcaqg",
        "outputId": "7142dfa3-455c-4cc0-cd69-5f5f211d017a"
      },
      "execution_count": 41,
      "outputs": [
        {
          "output_type": "stream",
          "name": "stdout",
          "text": [
            "    Count               Genre\n",
            "0     835                Rock\n",
            "1      80                Jazz\n",
            "2     264               Metal\n",
            "3     244  Alternative & Punk\n",
            "4       6       Rock And Roll\n",
            "5      61               Blues\n",
            "6     386               Latin\n",
            "7      30              Reggae\n",
            "8      28                 Pop\n",
            "9      20          Soundtrack\n",
            "10     15          Bossa Nova\n",
            "11     10      Easy Listening\n",
            "12     12         Heavy Metal\n",
            "13     41            R&B/Soul\n",
            "14     12   Electronica/Dance\n",
            "15     13               World\n",
            "16     17         Hip Hop/Rap\n",
            "17      6     Science Fiction\n",
            "18     47            TV Shows\n",
            "19     20    Sci Fi & Fantasy\n",
            "20     29               Drama\n",
            "21      9              Comedy\n",
            "22     14         Alternative\n",
            "23     41           Classical\n"
          ]
        }
      ]
    },
    {
      "cell_type": "markdown",
      "source": [
        "#PLOT the output from the JOINed tables in the previous cell to visualize sales from Invoice_Items by Genre, in descending order across the X axis."
      ],
      "metadata": {
        "id": "fY2yCbjvrmK5"
      }
    },
    {
      "cell_type": "code",
      "source": [
        "#Install and import plotting tools\n",
        "!pip install pandas matplotlib seaborn\n",
        "\n",
        "import pandas as pd\n",
        "import matplotlib.pyplot as plt\n",
        "import seaborn as sns\n",
        "\n",
        "# Determine figure size\n",
        "plt.figure(figsize=(20, 20))\n",
        "\n",
        "# Sort the DataFrame by 'Count' in descending order\n",
        "df_genre_count = df_genre_count.sort_values(by=['Count'], ascending=False)\n",
        "\n",
        "# Use the existing DataFrame created in the previous cell to plot a bar graph\n",
        "plt.bar(df_genre_count['Genre'], df_genre_count['Count'], color='skyblue')\n",
        "plt.title('Total Counts by Genre')\n",
        "plt.xlabel('Genre')\n",
        "plt.ylabel('Counts')\n",
        "plt.xticks(rotation=90)\n",
        "plt.tight_layout()\n",
        "plt.show()"
      ],
      "metadata": {
        "collapsed": true,
        "id": "9qZv9eAwWhmZ",
        "colab": {
          "base_uri": "https://localhost:8080/",
          "height": 1000
        },
        "outputId": "5305f75c-8afd-41c1-c83a-0fcc1af9c76e"
      },
      "execution_count": 73,
      "outputs": [
        {
          "output_type": "stream",
          "name": "stdout",
          "text": [
            "Requirement already satisfied: pandas in /usr/local/lib/python3.10/dist-packages (2.2.2)\n",
            "Requirement already satisfied: matplotlib in /usr/local/lib/python3.10/dist-packages (3.7.1)\n",
            "Requirement already satisfied: seaborn in /usr/local/lib/python3.10/dist-packages (0.13.2)\n",
            "Requirement already satisfied: numpy>=1.22.4 in /usr/local/lib/python3.10/dist-packages (from pandas) (1.26.4)\n",
            "Requirement already satisfied: python-dateutil>=2.8.2 in /usr/local/lib/python3.10/dist-packages (from pandas) (2.8.2)\n",
            "Requirement already satisfied: pytz>=2020.1 in /usr/local/lib/python3.10/dist-packages (from pandas) (2024.2)\n",
            "Requirement already satisfied: tzdata>=2022.7 in /usr/local/lib/python3.10/dist-packages (from pandas) (2024.2)\n",
            "Requirement already satisfied: contourpy>=1.0.1 in /usr/local/lib/python3.10/dist-packages (from matplotlib) (1.3.0)\n",
            "Requirement already satisfied: cycler>=0.10 in /usr/local/lib/python3.10/dist-packages (from matplotlib) (0.12.1)\n",
            "Requirement already satisfied: fonttools>=4.22.0 in /usr/local/lib/python3.10/dist-packages (from matplotlib) (4.54.1)\n",
            "Requirement already satisfied: kiwisolver>=1.0.1 in /usr/local/lib/python3.10/dist-packages (from matplotlib) (1.4.7)\n",
            "Requirement already satisfied: packaging>=20.0 in /usr/local/lib/python3.10/dist-packages (from matplotlib) (24.1)\n",
            "Requirement already satisfied: pillow>=6.2.0 in /usr/local/lib/python3.10/dist-packages (from matplotlib) (10.4.0)\n",
            "Requirement already satisfied: pyparsing>=2.3.1 in /usr/local/lib/python3.10/dist-packages (from matplotlib) (3.2.0)\n",
            "Requirement already satisfied: six>=1.5 in /usr/local/lib/python3.10/dist-packages (from python-dateutil>=2.8.2->pandas) (1.16.0)\n"
          ]
        },
        {
          "output_type": "display_data",
          "data": {
            "text/plain": [
              "<Figure size 2000x2000 with 1 Axes>"
            ],
            "image/png": "[encoded data removed]"
          },
          "metadata": {}
        }
      ]
    },
    {
      "cell_type": "code",
      "source": [
        "%%timeit\n",
        "sum(df_genre_count['Count'])"
      ],
      "metadata": {
        "colab": {
          "base_uri": "https://localhost:8080/"
        },
        "id": "Ic0gPUp6udmK",
        "outputId": "68d420ae-df11-40ba-f49f-9cdf9909f4c1"
      },
      "execution_count": 74,
      "outputs": [
        {
          "output_type": "stream",
          "name": "stdout",
          "text": [
            "8.61 µs ± 2.24 µs per loop (mean ± std. dev. of 7 runs, 100000 loops each)\n"
          ]
        }
      ]
    },
    {
      "cell_type": "code",
      "source": [
        "%%script sqlite3 --column --header chinook.db\n",
        "SELECT COUNT(*)\n",
        "FROM invoice_items ii\n",
        "JOIN tracks t ON ii.TrackId = t.TrackId\n",
        "WHERE t.GenreId IS NULL;\n"
      ],
      "metadata": {
        "colab": {
          "base_uri": "https://localhost:8080/"
        },
        "id": "aYQ_TZ2rrPWF",
        "outputId": "9d31d360-c979-483a-a7d2-f94f3105e912"
      },
      "execution_count": 75,
      "outputs": [
        {
          "output_type": "stream",
          "name": "stdout",
          "text": [
            "COUNT(*)\n",
            "--------\n",
            "0       \n"
          ]
        }
      ]
    },
    {
      "cell_type": "markdown",
      "source": [
        "## EXTRA CREDIT:\n",
        "* Use a CTE\n",
        "* A query that JOINS two or more tables -- SEE ABOVE.\n",
        "* Make a model to see if you can predict something\n",
        "* Come up with something else cool to do with your data\n"
      ],
      "metadata": {
        "id": "H6QrBn3n58mU"
      }
    },
    {
      "cell_type": "markdown",
      "source": [],
      "metadata": {
        "id": "zaFoejyNmpKB"
      }
    },
    {
      "cell_type": "code",
      "source": [
        "%%script sqlite3 --column --header chinook.db\n",
        "SELECT COUNT(*)\n",
        "FROM invoice_items ii\n",
        "JOIN tracks t ON ii.TrackId = t.TrackId\n",
        "WHERE t.GenreId IS NULL;"
      ],
      "metadata": {
        "colab": {
          "base_uri": "https://localhost:8080/"
        },
        "id": "OW4cBXTovatZ",
        "outputId": "2fd00399-b1f3-4b69-d353-6bf51ad75a97"
      },
      "execution_count": 81,
      "outputs": [
        {
          "output_type": "stream",
          "name": "stdout",
          "text": [
            "COUNT(*)\n",
            "--------\n",
            "0       \n"
          ]
        }
      ]
    },
    {
      "cell_type": "code",
      "source": [
        "#Can I query: do some employees sell more genres than others (their personal strength)?\n",
        "#What JOINs can occur between tables with common features"
      ],
      "metadata": {
        "id": "pBDMMU7QmrJl"
      },
      "execution_count": 77,
      "outputs": []
    },
    {
      "cell_type": "code",
      "source": [
        "%%script sqlite3 --column --header chinook.db\n",
        "SELECT COUNT(*)\n",
        "FROM invoice_items ii\n",
        "JOIN tracks t ON ii.TrackId = t.TrackId\n",
        "JOIN genres g on t.GenreID = g.GenreID\n",
        "limit 10"
      ],
      "metadata": {
        "id": "vHYQnDF0qNq2",
        "colab": {
          "base_uri": "https://localhost:8080/"
        },
        "outputId": "ee35528e-95f5-4dda-a35b-8b769af1af27"
      },
      "execution_count": 84,
      "outputs": [
        {
          "output_type": "stream",
          "name": "stdout",
          "text": [
            "COUNT(*)\n",
            "--------\n",
            "2240    \n"
          ]
        }
      ]
    }
  ]
}