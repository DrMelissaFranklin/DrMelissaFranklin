{
  "nbformat": 4,
  "nbformat_minor": 0,
  "metadata": {
    "colab": {
      "provenance": [],
      "authorship_tag": "ABX9TyPiVSPUe0GI5n7LeL67CAhO",
      "include_colab_link": true
    },
    "kernelspec": {
      "name": "python3",
      "display_name": "Python 3"
    },
    "language_info": {
      "name": "python"
    }
  },
  "cells": [
    {
      "cell_type": "markdown",
      "metadata": {
        "id": "view-in-github",
        "colab_type": "text"
      },
      "source": [
        "<a href=\"https://colab.research.google.com/github/DrMelissaFranklin/DrMelissaFranklin/blob/main/about_me.ipynb\" target=\"_parent\"><img src=\"https://colab.research.google.com/assets/colab-badge.svg\" alt=\"Open In Colab\"/></a>"
      ]
    },
    {
      "cell_type": "code",
      "execution_count": 6,
      "metadata": {
        "id": "5z_FqTyr7oDN"
      },
      "outputs": [],
      "source": []
    },
    {
      "cell_type": "code",
      "source": [],
      "metadata": {
        "id": "9KGOWUOjDYfo"
      },
      "execution_count": null,
      "outputs": []
    },
    {
      "cell_type": "markdown",
      "source": [],
      "metadata": {
        "id": "9ej6lmLF78YV"
      }
    },
    {
      "cell_type": "markdown",
      "source": [
        "# **About Me**\n",
        "\n",
        "# Mel (she/her)\n",
        "\n",
        ">I signed up for this DataScience class in hope of opening up new frontiers that delve into the why's and how's of human health, and also allow me to work from any home location.\n",
        "\n",
        ">>>I might like to have the head of a honeybee, so I could sense electrical fields using the hairs on my cuticle (that exist around flowers with nectar), and neutralize them by my presence.\n",
        "\n",
        ">If I only could have 3 apps, I'd keep:\n",
        "*   a camera app\n",
        "*   a music app\n",
        "* *Discord* (or *Slack* if I was still in this class)\n",
        "\n",
        "Podcasts| Apps\n",
        "--- | ---\n",
        "Dear Hank & John| Camera & Music\n",
        "Hidden Brain | Discord, or Slack if in this class\n",
        "\n",
        "\n",
        ">I love to Swim! (would like to waterproof my laptop and work in a 98 degree hottub with jets.)\n",
        "\n",
        "\n",
        "# .... most of the time, I am daydreaming about the boundaries on human *free* *will* -- or more accurately *free* *won'*t* -- and how those boundaries have been shaped by our evolutionary history....\n",
        "![Brain image](https://images.app.goo.gl/5u5hVQmvW7Sc2q3HA)\n",
        "\n",
        "\n",
        "\n",
        "\n"
      ],
      "metadata": {
        "id": "JKkAzlW28En9"
      }
    },
    {
      "cell_type": "code",
      "source": [],
      "metadata": {
        "id": "knoWcP0cAuz7"
      },
      "execution_count": null,
      "outputs": []
    }
  ]
}