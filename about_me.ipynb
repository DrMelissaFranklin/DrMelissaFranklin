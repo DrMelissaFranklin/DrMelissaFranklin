{
  "nbformat": 4,
  "nbformat_minor": 0,
  "metadata": {
    "colab": {
      "provenance": [],
      "authorship_tag": "ABX9TyPgm4FIOdnZm1bMPjra4TBz",
      "include_colab_link": true
    },
    "kernelspec": {
      "name": "python3",
      "display_name": "Python 3"
    },
    "language_info": {
      "name": "python"
    }
  },
  "cells": [
    {
      "cell_type": "markdown",
      "metadata": {
        "id": "view-in-github",
        "colab_type": "text"
      },
      "source": [
        "<a href=\"https://colab.research.google.com/github/DrMelissaFranklin/DrMelissaFranklin/blob/main/about_me.ipynb\" target=\"_parent\"><img src=\"https://colab.research.google.com/assets/colab-badge.svg\" alt=\"Open In Colab\"/></a>"
      ]
    },
    {
      "cell_type": "markdown",
      "source": [
        "# **About Me**\n",
        "\n",
        "# Mel Franklin, PhD (she/her/'hey you' if said with interest)\n",
        "\n",
        ">I signed up for this Data Science class:\n",
        "\n",
        "*   in hope of gaining skills that would allow me to delve deeper into the how's and why's of human health,\n",
        "*   in hope of managing [connective tissue](https://youtu.be/Jvtb0a2RXaY) pain by working from home.\n",
        "\n",
        "\n",
        ">>![Brain image](https://media4.giphy.com/media/v1.Y2lkPTc5MGI3NjExNGR0aDh6NHc4bzlpZ2RxamRscjkyM2g5MTlyZnZ3MGNmeXpzNXp3ZiZlcD12MV9pbnRlcm5hbF9naWZfYnlfaWQmY3Q9Zw/2bYewTk7K2No1NvcuK/giphy.webp)\n",
        "\n",
        "\n",
        "***I might like to have the head of a honeybee*** -- to sense, through surface hairs, tiny negatively charged electrical fields of nectar-filled flowers, whose electrons could be picked up by my\n",
        "[positively charged self](https://www.pnas.org/doi/10.1073/pnas.1607426113)  leaving the flower in a briefly neutralized state after a visit.\n",
        "\n",
        "**To Do List:**\n",
        "1. *waterproof my laptop and design a floating desk*\n",
        "2. *work for hours seated in a 98.6 degree jetted therapy pool*\n",
        "3. *take advantage of [pruney fingers](https://youtu.be/k7ve_ibAY1s) when I climb out*\n",
        "\n",
        "\n",
        ">>>>>A few shared recommendations....\n",
        "\n",
        "Podcasts| Apps\n",
        "--- | ---\n",
        "Dear Hank & John| Spotify & Google Photos\n",
        "Hidden Brain | Discord / Slack\n",
        "\n",
        ">                  I love to swim!  \n",
        "![swimming rubber duck](https://i.pinimg.com/originals/09/63/01/0963011acd78f47951753c51b2f9d252.gif)\n",
        "\n",
        "# .... most of the time, I am daydreaming about the boundaries of human *free* *will* --- or [according to certain neuroscientists](https://bigthink.com/surprising-science/free-will-or-free-wont-what-neuroscience-says-about-the-choices-we-can-and-cant-make/), *free* *won't* --- and how the boundaries around 'default mode networks' have been shaped by our evolutionary history....\n",
        "\n",
        "\n",
        "\n",
        "\n",
        "\n",
        "\n",
        "\n"
      ],
      "metadata": {
        "id": "JKkAzlW28En9"
      }
    }
  ]
}